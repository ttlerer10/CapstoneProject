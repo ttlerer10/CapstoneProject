{
    "cells": [
        {
            "cell_type": "markdown",
            "metadata": {
                "collapsed": true
            },
            "source": "\n# Segmenting and Clustering Neighborhoods in Toronto"
        },
        {
            "cell_type": "markdown",
            "metadata": {},
            "source": "### Use the Notebook to build the code to scrape the following Wikipedia page, https://en.wikipedia.org/wiki/List_of_postal_codes_of_Canada:_M, in order to obtain the data that is in the table of postal codes and to transform the data into a pandas dataframe"
        },
        {
            "cell_type": "code",
            "execution_count": 1,
            "metadata": {},
            "outputs": [],
            "source": "#import modules\nfrom bs4 import BeautifulSoup\nimport requests\nimport pandas as pd\n"
        },
        {
            "cell_type": "code",
            "execution_count": 2,
            "metadata": {},
            "outputs": [],
            "source": "# import data using url provided\nurl='https://en.wikipedia.org/wiki/List_of_postal_codes_of_Canada:_M'\nurl_text=requests.get(url).text\n#url_text"
        },
        {
            "cell_type": "markdown",
            "metadata": {},
            "source": "### Use BeautifulSoup to list the webpage and extract the table out of the webpage\nThe first row the page is assigned initially using 'Not assigned', which will be removed in the next step."
        },
        {
            "cell_type": "code",
            "execution_count": 3,
            "metadata": {},
            "outputs": [
                {
                    "name": "stdout",
                    "output_type": "stream",
                    "text": "The shape of the original table is  (181, 3)\n"
                },
                {
                    "data": {
                        "text/html": "<div>\n<style scoped>\n    .dataframe tbody tr th:only-of-type {\n        vertical-align: middle;\n    }\n\n    .dataframe tbody tr th {\n        vertical-align: top;\n    }\n\n    .dataframe thead th {\n        text-align: right;\n    }\n</style>\n<table border=\"1\" class=\"dataframe\">\n  <thead>\n    <tr style=\"text-align: right;\">\n      <th></th>\n      <th>PostalCode</th>\n      <th>Borough</th>\n      <th>Neighborhood</th>\n    </tr>\n  </thead>\n  <tbody>\n    <tr>\n      <th>0</th>\n      <td>Not assigned</td>\n      <td>Not assigned</td>\n      <td>Not assigned</td>\n    </tr>\n    <tr>\n      <th>1</th>\n      <td>M1A</td>\n      <td>Not assigned</td>\n      <td>Not assigned</td>\n    </tr>\n    <tr>\n      <th>2</th>\n      <td>M2A</td>\n      <td>Not assigned</td>\n      <td>Not assigned</td>\n    </tr>\n    <tr>\n      <th>3</th>\n      <td>M3A</td>\n      <td>North York</td>\n      <td>Parkwoods</td>\n    </tr>\n    <tr>\n      <th>4</th>\n      <td>M4A</td>\n      <td>North York</td>\n      <td>Victoria Village</td>\n    </tr>\n  </tbody>\n</table>\n</div>",
                        "text/plain": "     PostalCode       Borough      Neighborhood\n0  Not assigned  Not assigned      Not assigned\n1           M1A  Not assigned      Not assigned\n2           M2A  Not assigned      Not assigned\n3           M3A    North York         Parkwoods\n4           M4A    North York  Victoria Village"
                    },
                    "execution_count": 3,
                    "metadata": {},
                    "output_type": "execute_result"
                }
            ],
            "source": "# using BeautifulSoup to process url_text\ncity_data = BeautifulSoup(url_text, 'html.parser')\n\n# creat a new Dataframe\ncolumn_names = ['PostalCode','Borough','Neighborhood']\ntoronto = pd.DataFrame(columns = column_names)\n\ncontent = city_data.find('div', class_='mw-parser-output')\ntable = content.table.tbody\npostcode = 'Not assigned'\nborough = 'Not assigned'\nneighborhood = 'Not assigned'\n\nfor tr in table.find_all('tr'):\n    i = 0\n    for td in tr.find_all('td'):\n        if i == 0:\n            postcode = td.text.strip('\\n')\n            i = i + 1\n        elif i == 1:\n            borough = td.text.strip('\\n')\n            i = i + 1\n        elif i == 2: \n            neighborhood = td.text.strip('\\n')\n    toronto = toronto.append({'PostalCode': postcode,'Borough': borough,'Neighborhood': neighborhood},ignore_index=True)\n\nprint('The shape of the original table is ',toronto.shape)\ntoronto.head()"
        },
        {
            "cell_type": "markdown",
            "metadata": {},
            "source": "### Remove all rows with 'Not assigned'.\n### List the head of the dataframe and print out the shape of the dataframe"
        },
        {
            "cell_type": "code",
            "execution_count": 4,
            "metadata": {
                "scrolled": true
            },
            "outputs": [
                {
                    "name": "stdout",
                    "output_type": "stream",
                    "text": "The shape of the cleaned table is  (103, 3)\n"
                },
                {
                    "data": {
                        "text/html": "<div>\n<style scoped>\n    .dataframe tbody tr th:only-of-type {\n        vertical-align: middle;\n    }\n\n    .dataframe tbody tr th {\n        vertical-align: top;\n    }\n\n    .dataframe thead th {\n        text-align: right;\n    }\n</style>\n<table border=\"1\" class=\"dataframe\">\n  <thead>\n    <tr style=\"text-align: right;\">\n      <th></th>\n      <th>PostalCode</th>\n      <th>Borough</th>\n      <th>Neighborhood</th>\n    </tr>\n  </thead>\n  <tbody>\n    <tr>\n      <th>0</th>\n      <td>M3A</td>\n      <td>North York</td>\n      <td>Parkwoods</td>\n    </tr>\n    <tr>\n      <th>1</th>\n      <td>M4A</td>\n      <td>North York</td>\n      <td>Victoria Village</td>\n    </tr>\n    <tr>\n      <th>2</th>\n      <td>M5A</td>\n      <td>Downtown Toronto</td>\n      <td>Regent Park, Harbourfront</td>\n    </tr>\n    <tr>\n      <th>3</th>\n      <td>M6A</td>\n      <td>North York</td>\n      <td>Lawrence Manor, Lawrence Heights</td>\n    </tr>\n    <tr>\n      <th>4</th>\n      <td>M7A</td>\n      <td>Downtown Toronto</td>\n      <td>Queen's Park, Ontario Provincial Government</td>\n    </tr>\n  </tbody>\n</table>\n</div>",
                        "text/plain": "  PostalCode           Borough                                 Neighborhood\n0        M3A        North York                                    Parkwoods\n1        M4A        North York                             Victoria Village\n2        M5A  Downtown Toronto                    Regent Park, Harbourfront\n3        M6A        North York             Lawrence Manor, Lawrence Heights\n4        M7A  Downtown Toronto  Queen's Park, Ontario Provincial Government"
                    },
                    "execution_count": 4,
                    "metadata": {},
                    "output_type": "execute_result"
                }
            ],
            "source": "# clean dataframe \ntoronto = toronto[toronto.Borough!='Not assigned']\ntoronto.reset_index(drop = True, inplace = True)\n\nprint('The shape of the cleaned table is ',toronto.shape)\ntoronto.head()"
        },
        {
            "cell_type": "markdown",
            "metadata": {},
            "source": "### Use the csv file to create the following dataframe"
        },
        {
            "cell_type": "code",
            "execution_count": 5,
            "metadata": {},
            "outputs": [
                {
                    "name": "stdout",
                    "output_type": "stream",
                    "text": "--2020-08-01 08:50:17--  https://cocl.us/Geospatial_data\nResolving cocl.us (cocl.us)... 159.8.69.21, 159.8.69.24, 159.8.72.228\nConnecting to cocl.us (cocl.us)|159.8.69.21|:443... connected.\nHTTP request sent, awaiting response... 301 Moved Permanently\nLocation: https://ibm.box.com/shared/static/9afzr83pps4pwf2smjjcf1y5mvgb18rr.csv [following]\n--2020-08-01 08:50:19--  https://ibm.box.com/shared/static/9afzr83pps4pwf2smjjcf1y5mvgb18rr.csv\nResolving ibm.box.com (ibm.box.com)... 185.235.236.197\nConnecting to ibm.box.com (ibm.box.com)|185.235.236.197|:443... connected.\nHTTP request sent, awaiting response... 301 Moved Permanently\nLocation: /public/static/9afzr83pps4pwf2smjjcf1y5mvgb18rr.csv [following]\n--2020-08-01 08:50:19--  https://ibm.box.com/public/static/9afzr83pps4pwf2smjjcf1y5mvgb18rr.csv\nReusing existing connection to ibm.box.com:443.\nHTTP request sent, awaiting response... 301 Moved Permanently\nLocation: https://ibm.ent.box.com/public/static/9afzr83pps4pwf2smjjcf1y5mvgb18rr.csv [following]\n--2020-08-01 08:50:19--  https://ibm.ent.box.com/public/static/9afzr83pps4pwf2smjjcf1y5mvgb18rr.csv\nResolving ibm.ent.box.com (ibm.ent.box.com)... 107.152.29.201\nConnecting to ibm.ent.box.com (ibm.ent.box.com)|107.152.29.201|:443... connected.\nHTTP request sent, awaiting response... 302 Found\nLocation: https://public.boxcloud.com/d/1/b1!t8JxxcNJ7mcnuNaV2q40XA1ZedWfSR3srR94lgheCpeUdBvEivg3NRBJRRlecMHetz2QSWWZnut6dHkknUOYOmZiQ14zKshQlQZCf2ImUlBkPy6TyQf00raDk5zG6ysvETZOEZJNdW9nI5qFYX6GiZdAY8QY3AoQpJCLy5Txlpo5nXuywYvG-745Qp0rOwE6v7c53IylTHEvx8bBQROkhZuIhPFzlTTIZIwRIergvZxtywkGkfgUWp0zceNCsXpyKjLzWpIIKuuuZ25LJu6T5foZQcw6E5P6Shw96nQI4uZ_dbbfUxHF2gJK2Wh3AAVs3r5PeUU4fa-xDA7PcAL0YBl4d-IO6DOA7FfZvMtzuVoszCGo9Sm2DK3-e50MXTJV37otn1hfvv-LlBx_QH4FZWXLZMJpwEPYaompgxrvjqGyIAAuMK4nbkPEH_i7wmbzP1-jS_FfHtrsdLFGLrVzk2w5SZxeEiGPpaKqQ4WLs4pWHWaIvfymUOD_7Qo0kGTuK7PUxJ-FYY2GTR5_z6FsdARzmLnSbI96C_8FhS9q-zZ2iwXNPWiV6GHEPHys0qJ-ZlwpdouPYgFOa5t4a_ybiyMwceZB2LXe2QUEL99_qLifSdK_t5xqeYSIA_EQ68x2YGbrSnWLriNz0T9e0gX3jC411bobN8s3qO2D6GTZfMwQ0dUO49rupbYW7dJG_1-mjkMiVXiS5n61IPD74-jrCEUVhgzG-muOBAkKWonM5Lb45toy6mVKP_QTnW_bDM2xF-7Ia5lDJLIWoalb3sV4LrQrJbVFEQI2u_yjKhTGVRQWcH-kI5wKRm3ZD5DwqnD9wL8cFuMhVUHKKldXL9WqnwjF3sGnlapN8GD1DYIh8FBdu2iNrV3VSse-qS8asKHFR4YkY2T1kelPejkNLHGQmx1zKvI_R7GkStwmhvUr_Mg-KsmClDP_pzmkIuw6b1V2uHgKakyQ08tgshtwk0thWa2Np4iBOXKyTLkBMLXmXGss06rLqnpp1JyS010kqRfrp2_e89GHRiuVoIrm_0Z_4rEGyEuWIZfbIf_a4KEIyqxa4KCpv-4AKFDMoTFbRc852MpSnk09L6Khktmy_vWrOuhg8L8112d1bDJWRjUaZtu9CLoSg0MieIUNswd4Z0QblWlI4zKgduhOIRU6FAXYjfw32Oh__wP0eKsV_dxgi3TlkdXa4B314jbXceSGJfTiapnW6a5D9NnwaCHB19D-WwG4RIQQqlgvLZr00QikLm9jI5uK1zk2J8WpE-aRQyqC2wpkKHbKCc8vORScjzXcpc9hs49WPV1a0hgvrPTERUt_sluwNTn3d_8jvL1-THvsrn2NF7qNC9BwUQuKo9eENPvHuaib1l8khHYmUiQZqjnBm7GQdeojKuw3VGCdcSeqCJn_hzJmXtV_wRHM5BX5wUy3Molo1FTtIhNA32z0ya2pVTw./download [following]\n--2020-08-01 08:50:22--  https://public.boxcloud.com/d/1/b1!t8JxxcNJ7mcnuNaV2q40XA1ZedWfSR3srR94lgheCpeUdBvEivg3NRBJRRlecMHetz2QSWWZnut6dHkknUOYOmZiQ14zKshQlQZCf2ImUlBkPy6TyQf00raDk5zG6ysvETZOEZJNdW9nI5qFYX6GiZdAY8QY3AoQpJCLy5Txlpo5nXuywYvG-745Qp0rOwE6v7c53IylTHEvx8bBQROkhZuIhPFzlTTIZIwRIergvZxtywkGkfgUWp0zceNCsXpyKjLzWpIIKuuuZ25LJu6T5foZQcw6E5P6Shw96nQI4uZ_dbbfUxHF2gJK2Wh3AAVs3r5PeUU4fa-xDA7PcAL0YBl4d-IO6DOA7FfZvMtzuVoszCGo9Sm2DK3-e50MXTJV37otn1hfvv-LlBx_QH4FZWXLZMJpwEPYaompgxrvjqGyIAAuMK4nbkPEH_i7wmbzP1-jS_FfHtrsdLFGLrVzk2w5SZxeEiGPpaKqQ4WLs4pWHWaIvfymUOD_7Qo0kGTuK7PUxJ-FYY2GTR5_z6FsdARzmLnSbI96C_8FhS9q-zZ2iwXNPWiV6GHEPHys0qJ-ZlwpdouPYgFOa5t4a_ybiyMwceZB2LXe2QUEL99_qLifSdK_t5xqeYSIA_EQ68x2YGbrSnWLriNz0T9e0gX3jC411bobN8s3qO2D6GTZfMwQ0dUO49rupbYW7dJG_1-mjkMiVXiS5n61IPD74-jrCEUVhgzG-muOBAkKWonM5Lb45toy6mVKP_QTnW_bDM2xF-7Ia5lDJLIWoalb3sV4LrQrJbVFEQI2u_yjKhTGVRQWcH-kI5wKRm3ZD5DwqnD9wL8cFuMhVUHKKldXL9WqnwjF3sGnlapN8GD1DYIh8FBdu2iNrV3VSse-qS8asKHFR4YkY2T1kelPejkNLHGQmx1zKvI_R7GkStwmhvUr_Mg-KsmClDP_pzmkIuw6b1V2uHgKakyQ08tgshtwk0thWa2Np4iBOXKyTLkBMLXmXGss06rLqnpp1JyS010kqRfrp2_e89GHRiuVoIrm_0Z_4rEGyEuWIZfbIf_a4KEIyqxa4KCpv-4AKFDMoTFbRc852MpSnk09L6Khktmy_vWrOuhg8L8112d1bDJWRjUaZtu9CLoSg0MieIUNswd4Z0QblWlI4zKgduhOIRU6FAXYjfw32Oh__wP0eKsV_dxgi3TlkdXa4B314jbXceSGJfTiapnW6a5D9NnwaCHB19D-WwG4RIQQqlgvLZr00QikLm9jI5uK1zk2J8WpE-aRQyqC2wpkKHbKCc8vORScjzXcpc9hs49WPV1a0hgvrPTERUt_sluwNTn3d_8jvL1-THvsrn2NF7qNC9BwUQuKo9eENPvHuaib1l8khHYmUiQZqjnBm7GQdeojKuw3VGCdcSeqCJn_hzJmXtV_wRHM5BX5wUy3Molo1FTtIhNA32z0ya2pVTw./download\nResolving public.boxcloud.com (public.boxcloud.com)... 185.235.236.200\nConnecting to public.boxcloud.com (public.boxcloud.com)|185.235.236.200|:443... connected.\nHTTP request sent, awaiting response... 200 OK\nLength: 2891 (2.8K) [text/csv]\nSaving to: \u2018geospatial_data.csv\u2019\n\n100%[======================================>] 2,891       --.-K/s   in 0s      \n\n2020-08-01 08:50:23 (280 MB/s) - \u2018geospatial_data.csv\u2019 saved [2891/2891]\n\n"
                },
                {
                    "data": {
                        "text/html": "<div>\n<style scoped>\n    .dataframe tbody tr th:only-of-type {\n        vertical-align: middle;\n    }\n\n    .dataframe tbody tr th {\n        vertical-align: top;\n    }\n\n    .dataframe thead th {\n        text-align: right;\n    }\n</style>\n<table border=\"1\" class=\"dataframe\">\n  <thead>\n    <tr style=\"text-align: right;\">\n      <th></th>\n      <th>PostalCode</th>\n      <th>Latitude</th>\n      <th>Longitude</th>\n    </tr>\n  </thead>\n  <tbody>\n    <tr>\n      <th>0</th>\n      <td>M1B</td>\n      <td>43.806686</td>\n      <td>-79.194353</td>\n    </tr>\n    <tr>\n      <th>1</th>\n      <td>M1C</td>\n      <td>43.784535</td>\n      <td>-79.160497</td>\n    </tr>\n    <tr>\n      <th>2</th>\n      <td>M1E</td>\n      <td>43.763573</td>\n      <td>-79.188711</td>\n    </tr>\n    <tr>\n      <th>3</th>\n      <td>M1G</td>\n      <td>43.770992</td>\n      <td>-79.216917</td>\n    </tr>\n    <tr>\n      <th>4</th>\n      <td>M1H</td>\n      <td>43.773136</td>\n      <td>-79.239476</td>\n    </tr>\n  </tbody>\n</table>\n</div>",
                        "text/plain": "  PostalCode   Latitude  Longitude\n0        M1B  43.806686 -79.194353\n1        M1C  43.784535 -79.160497\n2        M1E  43.763573 -79.188711\n3        M1G  43.770992 -79.216917\n4        M1H  43.773136 -79.239476"
                    },
                    "execution_count": 5,
                    "metadata": {},
                    "output_type": "execute_result"
                }
            ],
            "source": "!wget -O geospatial_data.csv https://cocl.us/Geospatial_data\ngeocsv_data = pd.read_csv('geospatial_data.csv')\ngeocsv_data.rename(columns={'Postal Code':'PostalCode'}, inplace=True)\ngeocsv_data.head()"
        },
        {
            "cell_type": "markdown",
            "metadata": {},
            "source": "### Merge dataframe totonto and geocsv to create a new dataframe"
        },
        {
            "cell_type": "code",
            "execution_count": 6,
            "metadata": {},
            "outputs": [
                {
                    "name": "stdout",
                    "output_type": "stream",
                    "text": "The shape of the cleaned table is  (103, 5)\n"
                },
                {
                    "data": {
                        "text/html": "<div>\n<style scoped>\n    .dataframe tbody tr th:only-of-type {\n        vertical-align: middle;\n    }\n\n    .dataframe tbody tr th {\n        vertical-align: top;\n    }\n\n    .dataframe thead th {\n        text-align: right;\n    }\n</style>\n<table border=\"1\" class=\"dataframe\">\n  <thead>\n    <tr style=\"text-align: right;\">\n      <th></th>\n      <th>PostalCode</th>\n      <th>Borough</th>\n      <th>Neighborhood</th>\n      <th>Latitude</th>\n      <th>Longitude</th>\n    </tr>\n  </thead>\n  <tbody>\n    <tr>\n      <th>0</th>\n      <td>M3A</td>\n      <td>North York</td>\n      <td>Parkwoods</td>\n      <td>43.753259</td>\n      <td>-79.329656</td>\n    </tr>\n    <tr>\n      <th>1</th>\n      <td>M4A</td>\n      <td>North York</td>\n      <td>Victoria Village</td>\n      <td>43.725882</td>\n      <td>-79.315572</td>\n    </tr>\n    <tr>\n      <th>2</th>\n      <td>M5A</td>\n      <td>Downtown Toronto</td>\n      <td>Regent Park, Harbourfront</td>\n      <td>43.654260</td>\n      <td>-79.360636</td>\n    </tr>\n    <tr>\n      <th>3</th>\n      <td>M6A</td>\n      <td>North York</td>\n      <td>Lawrence Manor, Lawrence Heights</td>\n      <td>43.718518</td>\n      <td>-79.464763</td>\n    </tr>\n    <tr>\n      <th>4</th>\n      <td>M7A</td>\n      <td>Downtown Toronto</td>\n      <td>Queen's Park, Ontario Provincial Government</td>\n      <td>43.662301</td>\n      <td>-79.389494</td>\n    </tr>\n  </tbody>\n</table>\n</div>",
                        "text/plain": "  PostalCode           Borough                                 Neighborhood  \\\n0        M3A        North York                                    Parkwoods   \n1        M4A        North York                             Victoria Village   \n2        M5A  Downtown Toronto                    Regent Park, Harbourfront   \n3        M6A        North York             Lawrence Manor, Lawrence Heights   \n4        M7A  Downtown Toronto  Queen's Park, Ontario Provincial Government   \n\n    Latitude  Longitude  \n0  43.753259 -79.329656  \n1  43.725882 -79.315572  \n2  43.654260 -79.360636  \n3  43.718518 -79.464763  \n4  43.662301 -79.389494  "
                    },
                    "execution_count": 6,
                    "metadata": {},
                    "output_type": "execute_result"
                }
            ],
            "source": "df = pd.merge(toronto, geocsv_data, on='PostalCode')\nprint('The shape of the cleaned table is ',df.shape)\ndf.head()"
        },
        {
            "cell_type": "code",
            "execution_count": null,
            "metadata": {},
            "outputs": [],
            "source": ""
        }
    ],
    "metadata": {
        "kernelspec": {
            "display_name": "Python 3.6",
            "language": "python",
            "name": "python3"
        },
        "language_info": {
            "codemirror_mode": {
                "name": "ipython",
                "version": 3
            },
            "file_extension": ".py",
            "mimetype": "text/x-python",
            "name": "python",
            "nbconvert_exporter": "python",
            "pygments_lexer": "ipython3",
            "version": "3.6.9"
        }
    },
    "nbformat": 4,
    "nbformat_minor": 1
}